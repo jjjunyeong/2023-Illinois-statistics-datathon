{
 "cells": [
  {
   "cell_type": "code",
   "execution_count": 56,
   "metadata": {},
   "outputs": [],
   "source": [
    "import pandas as pd\n",
    "from pandas_profiling import ProfileReport\n",
    "import matplotlib.pyplot as plt\n",
    "import seaborn as sns\n",
    "from sklearn.model_selection import train_test_split\n",
    "from sklearn.feature_selection import SelectKBest\n",
    "from sklearn.feature_selection import f_classif\n",
    "from matplotlib import pyplot\n",
    "\n",
    "%matplotlib inline"
   ]
  },
  {
   "cell_type": "code",
   "execution_count": 80,
   "metadata": {},
   "outputs": [],
   "source": [
    "macro = pd.read_csv(\"data/macro_data.csv\")\n",
    "macro = macro.drop(labels=range(0,223), axis=0)\n",
    "macro = macro.drop(labels=range(260,439), axis=0)"
   ]
  },
  {
   "cell_type": "code",
   "execution_count": 81,
   "metadata": {},
   "outputs": [],
   "source": [
    "macro.Mnemonic = pd.to_datetime(macro.Mnemonic, format=\"%m/%d/%Y\")\n",
    "macro.Mnemonic = macro.Mnemonic.dt.strftime('%Y%m')"
   ]
  },
  {
   "cell_type": "code",
   "execution_count": 82,
   "metadata": {},
   "outputs": [
    {
     "data": {
      "text/plain": [
       "223    201801\n",
       "224    201802\n",
       "225    201803\n",
       "226    201804\n",
       "227    201805\n",
       "228    201806\n",
       "229    201807\n",
       "230    201808\n",
       "231    201809\n",
       "232    201810\n",
       "233    201811\n",
       "234    201812\n",
       "235    201901\n",
       "236    201902\n",
       "237    201903\n",
       "238    201904\n",
       "239    201905\n",
       "240    201906\n",
       "241    201907\n",
       "242    201908\n",
       "243    201909\n",
       "244    201910\n",
       "245    201911\n",
       "246    201912\n",
       "247    202001\n",
       "248    202002\n",
       "249    202003\n",
       "250    202004\n",
       "251    202005\n",
       "252    202006\n",
       "253    202007\n",
       "254    202008\n",
       "255    202009\n",
       "256    202010\n",
       "257    202011\n",
       "258    202012\n",
       "259    202101\n",
       "Name: Mnemonic, dtype: object"
      ]
     },
     "execution_count": 82,
     "metadata": {},
     "output_type": "execute_result"
    }
   ],
   "source": [
    "macro.Mnemonic"
   ]
  }
 ],
 "metadata": {
  "kernelspec": {
   "display_name": "Python 3",
   "language": "python",
   "name": "python3"
  },
  "language_info": {
   "codemirror_mode": {
    "name": "ipython",
    "version": 3
   },
   "file_extension": ".py",
   "mimetype": "text/x-python",
   "name": "python",
   "nbconvert_exporter": "python",
   "pygments_lexer": "ipython3",
   "version": "3.10.9"
  },
  "orig_nbformat": 4,
  "vscode": {
   "interpreter": {
    "hash": "369f2c481f4da34e4445cda3fffd2e751bd1c4d706f27375911949ba6bb62e1c"
   }
  }
 },
 "nbformat": 4,
 "nbformat_minor": 2
}
